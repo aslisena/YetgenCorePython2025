{
 "cells": [
  {
   "cell_type": "markdown",
   "metadata": {
    "id": "unoTPlV_tJOm"
   },
   "source": [
    "# Problem 1 \n",
    "Bir sayının çift olup olmadığını sorgulayan bir fonksiyon yazın. Bu fonksiyon, eğer sayı çift ise bu değeri dönsün. Ancak sayı tek sayı ise fonksiyon raise ile ValueError hatası oluştursun. Daha sonra, içinde çift ve tek sayılar bulunduran bir liste tanımlayın ve liste üzerinde gezinerek ekrana sadece çift sayıları bastırın."
   ]
  },
  {
   "cell_type": "code",
   "execution_count": 7,
   "metadata": {},
   "outputs": [
    {
     "name": "stdout",
     "output_type": "stream",
     "text": [
      "2 sayısı, çift sayıdır\n",
      "34 sayısı, çift sayıdır\n",
      "56 sayısı, çift sayıdır\n",
      "22 sayısı, çift sayıdır\n",
      "12 sayısı, çift sayıdır\n",
      "88 sayısı, çift sayıdır\n",
      "100 sayısı, çift sayıdır\n"
     ]
    }
   ],
   "source": [
    "def sayi_cift_mi(sayi):\n",
    "    if sayi % 2 == 0:\n",
    "        print(f\"{sayi} sayısı, çift sayıdır\")\n",
    "    else:\n",
    "        raise ValueError(\"Tek sayıdır\")\n",
    "    \n",
    "sayilar = [2, 34, 56, 7, 9, 11, 22, 27, 3, 12, 88, 100]\n",
    "\n",
    "for eleman in sayilar:\n",
    "    try:\n",
    "        sayi_cift_mi(eleman)\n",
    "    except:\n",
    "        pass\n"
   ]
  },
  {
   "cell_type": "markdown",
   "metadata": {
    "id": "CdfzJ2A9tJOq"
   },
   "source": [
    "# Problem 2\n",
    "\n",
    "2 YetGen lideri ders sırasında canları sıkılınca oyun oynamak isterler. Ancak hangi oyunu oynayacaklarına karar veremezler ve son olarak kendi oyunlarını yazmaya karar verirler.\n",
    "Liderlerimizin kodlamak istediği oyun kuralları şöyledir:\n",
    "- Oyunda random olarak 0 ile 100 arasında bir sayı tutulur.\n",
    "- Kullanıcıdan bilgisayarın tuttuğu sayıyı tahmin etmesi için bir sayı girmesini istenir.\n",
    "- Eğer kullanıcının girdiği sayı bulunması gereken sayıdan küçükse  tahmininizi yükseltin, büyükse tahmininizi düşürün şeklinde bir çıktı verilir.\n",
    "- Oyunun gerçeğe yakın olması için bilgisayarın çalışmasını simgelemek için 1 saniye bekleme süresi tanınır.\n",
    "- Kullanıcı 5 hakkı vardır. 5 hakkı da kullanıp sayıyı bulamazsa oyunu kaybeder."
   ]
  },
  {
   "cell_type": "code",
   "execution_count": 11,
   "metadata": {},
   "outputs": [
    {
     "name": "stdout",
     "output_type": "stream",
     "text": [
      "Merhaba, oyuna hoş geldiniz. 1 ile 100 arasında bir sayı tuttum. Bakalım tahmin edebilecek misin\n",
      " Tahmin edebilmek için 5 hakkınız kaldı.\n",
      "Tahmininiz düşürünüz.\n",
      " Tahmin edebilmek için 4 hakkınız kaldı.\n",
      "Tahmininiz düşürünüz.\n",
      " Tahmin edebilmek için 3 hakkınız kaldı.\n",
      "Tahminizi yükseltiniz.\n",
      " Tahmin edebilmek için 2 hakkınız kaldı.\n",
      "Tahminizi yükseltiniz.\n",
      " Tahmin edebilmek için 1 hakkınız kaldı.\n",
      "Tahmininiz düşürünüz.\n",
      "Üzgünüm. Doğru tahmin yapamadınız. Hadi tekrar deneyelim.\n"
     ]
    }
   ],
   "source": [
    "import random\n",
    "import time \n",
    "\n",
    "print(\"Merhaba, oyuna hoş geldiniz. 1 ile 100 arasında bir sayı tuttum. Bakalım tahmin edebilecek misin\")\n",
    "sayi=random.randint(1,100)\n",
    "for hak in range(5):\n",
    "    print(f\" Tahmin edebilmek için {5 -hak} hakkınız kaldı.\")\n",
    "    try:\n",
    "        tahminEdilenSayi= int(input(\"Lütfen, tahmin ettiğiniz sayıyı giriniz:\"))\n",
    "    except ValueError:\n",
    "        print(\"Lütfen bir sayı giriniz!\")\n",
    "        continue\n",
    "          \n",
    "    time.sleep(1)\n",
    "\n",
    "    if tahminEdilenSayi > sayi :\n",
    "        print(\"Tahmininiz düşürünüz.\")\n",
    "    elif tahminEdilenSayi < sayi:\n",
    "        print(\"Tahminizi yükseltiniz.\")\n",
    "    else:\n",
    "        print(\"Tebrikler, doğru tahmin ettiniz.\")\n",
    "        break\n",
    "   \n",
    "else:\n",
    "    print(f\"Üzgünüm. Doğru tahmin yapamadınız. Hadi tekrar deneyelim.\")"
   ]
  }
 ],
 "metadata": {
  "colab": {
   "provenance": []
  },
  "kernelspec": {
   "display_name": "Python 3",
   "language": "python",
   "name": "python3"
  },
  "language_info": {
   "codemirror_mode": {
    "name": "ipython",
    "version": 3
   },
   "file_extension": ".py",
   "mimetype": "text/x-python",
   "name": "python",
   "nbconvert_exporter": "python",
   "pygments_lexer": "ipython3",
   "version": "3.11.0"
  },
  "orig_nbformat": 4,
  "vscode": {
   "interpreter": {
    "hash": "5026d2d6e7aaaaba093def813beadff083d8733e4a511af01735cbabd156995d"
   }
  }
 },
 "nbformat": 4,
 "nbformat_minor": 0
}
