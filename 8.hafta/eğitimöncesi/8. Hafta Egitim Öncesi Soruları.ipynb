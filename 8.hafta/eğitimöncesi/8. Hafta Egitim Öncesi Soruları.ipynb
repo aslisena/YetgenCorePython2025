{
 "cells": [
  {
   "cell_type": "markdown",
   "metadata": {
    "id": "Pzh44PAE5H61"
   },
   "source": [
    "# Problem 1 \n",
    "Kullanıcıdan aldığı ürün bilgisini (ad, fiyat) urunler.txt dosyasına kayıt eden fonksiyonu yazınız."
   ]
  },
  {
   "cell_type": "code",
   "execution_count": null,
   "metadata": {
    "id": "uKw3Wap95H64"
   },
   "outputs": [],
   "source": [
    "# 1.Problemin Çözümünü Buraya Yazınız\n",
    "def urun_ekle():\n",
    " f=open(\"urunler.txt\",\"a\" ,encoding=\"utf-8\")\n",
    " f.write(ad +\",\"+ str(fiyat)+\"\\n\")\n",
    " f.close()\n",
    "ad = input(\"ürün adını giriniz:\")\n",
    "fiyat = float(input(\"ürünün fiyatını giriniz:\"))\n",
    "\n",
    "urun_ekle()\n",
    "\n",
    "\n"
   ]
  },
  {
   "cell_type": "markdown",
   "metadata": {
    "id": "Lw7xy19D5H66"
   },
   "source": [
    "# Problem 2\n",
    "1.problemde oluşturulan text dosyası içerisinde kullanıcıdan alacağımız eski kelime isimli değişkene atadığımız \n",
    "ve değiştirilmesini istediğimiz kelimemizi yerini alıcak olan yeni kelime isimli değişkene atayın. Belirlenen kelimeleri text dosyasında değiştiren fonksiyonu yazınız."
   ]
  },
  {
   "cell_type": "code",
   "execution_count": 43,
   "metadata": {
    "id": "jDlym3ko5H66"
   },
   "outputs": [
    {
     "name": "stdout",
     "output_type": "stream",
     "text": [
      "Kelime başarıyla değiştirildi.\n"
     ]
    }
   ],
   "source": [
    "# 2.Problemin Çözümünü Buraya Yazınız\n",
    "eskiKelime = input(\"eski kelimeyi giriniz:\")\n",
    "yeniKelime =input(\"yeni kelimeyi giriniz:\")\n",
    "def kelime_degistir( eskiKelime, yeniKelime):\n",
    "    try:\n",
    "        with open( \"urunler.txt\",\"r\", encoding=\"utf-8\") as f:\n",
    "            urunler= f.read()\n",
    "\n",
    "        urunler = urunler.replace(eskiKelime, yeniKelime)\n",
    "\n",
    "        with open(\"urunler.txt\",\"w\", encoding=\"utf-8\") as f:\n",
    "            f.write(urunler)\n",
    "\n",
    "        print(\"Kelime başarıyla değiştirildi.\")\n",
    "    except Exception as e:\n",
    "        print(\"Bir hata oluştu:\", e)\n",
    "        \n",
    "        \n",
    "kelime_degistir(eskiKelime, yeniKelime)\n",
    "\n",
    "    "
   ]
  },
  {
   "cell_type": "markdown",
   "metadata": {
    "id": "3aSYk4FF5H67"
   },
   "source": [
    "# Problem 3\n",
    "Vehicle sınıfının tüm değişkenlerini ve yöntemlerini devralacak bir alt sınıf olarak Bus sınıfı oluşturunuz.\n",
    "\n",
    "\n",
    "\n",
    "```\n",
    "Output\n",
    "> Name: School Volvo Speed: 180 Mileage: 12\n",
    "```\n"
   ]
  },
  {
   "cell_type": "code",
   "execution_count": 45,
   "metadata": {
    "id": "PwCI6Xkb5H68"
   },
   "outputs": [
    {
     "name": "stdout",
     "output_type": "stream",
     "text": [
      "Vehicle sınıfı oluşturuldu.\n",
      "Marka:School Volvo \n",
      "Model:180 \n",
      "Yıl: 12\n"
     ]
    }
   ],
   "source": [
    "# 3.Problemin Çözümünü Buraya Yazınız\n",
    "class Vehicle:\n",
    "    def __init__(self,marka,model,yil):\n",
    "        self.marka = marka\n",
    "        self.model = model\n",
    "        self.yil = yil\n",
    "        print(\"Vehicle sınıfı oluşturuldu.\")\n",
    "\n",
    "class Bus(Vehicle):\n",
    "    pass\n",
    "\n",
    "bus = Bus(\"School Volvo\", 180 ,12)\n",
    "\n",
    "print(f\"Marka:{bus.marka} \\nModel:{bus.model} \\nYıl: {bus.yil}\")\n",
    "        \n"
   ]
  }
 ],
 "metadata": {
  "colab": {
   "provenance": []
  },
  "kernelspec": {
   "display_name": "Python 3",
   "language": "python",
   "name": "python3"
  },
  "language_info": {
   "codemirror_mode": {
    "name": "ipython",
    "version": 3
   },
   "file_extension": ".py",
   "mimetype": "text/x-python",
   "name": "python",
   "nbconvert_exporter": "python",
   "pygments_lexer": "ipython3",
   "version": "3.11.0"
  },
  "orig_nbformat": 4,
  "vscode": {
   "interpreter": {
    "hash": "5026d2d6e7aaaaba093def813beadff083d8733e4a511af01735cbabd156995d"
   }
  }
 },
 "nbformat": 4,
 "nbformat_minor": 0
}
