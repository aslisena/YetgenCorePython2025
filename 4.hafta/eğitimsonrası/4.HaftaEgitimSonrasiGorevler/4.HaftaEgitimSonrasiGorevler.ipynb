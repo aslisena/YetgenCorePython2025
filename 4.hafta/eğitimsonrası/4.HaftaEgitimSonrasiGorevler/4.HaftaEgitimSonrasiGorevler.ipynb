{
 "cells": [
  {
   "cell_type": "markdown",
   "metadata": {},
   "source": [
    "# Problem 1\n",
    "`ogrenciler` adında bir sözlük oluşturunuz. Kullanıcıdan döngü yardımıyla 3 öğrenci için veri girmesini isteyerek öğrencilerin sırasıyla okul numarası, isim, soy isim, telefon numarası ve doğum tarihi bilgilerini alınız. Aldığınız öğrenci bilgilerini yine aynı döngü yardımıyla `ogrenciler` adındaki sözlükte saklayınız. Daha sonra öğrenci bilgilerinin bulunduğu sözlük yapısını ekrana bastırınız.\n",
    "\n"
   ]
  },
  {
   "cell_type": "code",
   "execution_count": null,
   "metadata": {},
   "outputs": [],
   "source": [
    "# 1.Problemin Çözümünü Buraya Yazınız\n",
    "öğrenciler = {}\n",
    "\n",
    "\n"
   ]
  },
  {
   "cell_type": "markdown",
   "metadata": {},
   "source": [
    "# Problem 2\n",
    "\n",
    "### a - Biraz ısınarak başlayalım!\n",
    "\n",
    "```\n",
    "numbers = [5,10,10,15,15,15,20,20,20,20]\n",
    "```\n",
    "\n",
    "Yukarıda `numbers` adında 10 elemanlı bir liste verilmiştir. Bu listenin her elemanını kontrol eden ve tekrar eden elemanları bir kez olacak şekilde başka bir listeye kopyalayan bir program yazınız. Son olarak oluşturduğunuz listeyi ekrana bastırınız.\n",
    "\n",
    "\n",
    "\n",
    "\n",
    "```\n",
    ">Output\n",
    "[5, 10, 15, 20]\n",
    "```\n"
   ]
  },
  {
   "cell_type": "code",
   "execution_count": 5,
   "metadata": {},
   "outputs": [
    {
     "name": "stdout",
     "output_type": "stream",
     "text": [
      "[5, 10, 15, 20]\n"
     ]
    }
   ],
   "source": [
    "numbers = [5, 10, 10, 15, 15, 15, 20, 20, 20, 20]\n",
    "\n",
    "unique_numbers = list(set(numbers))  \n",
    "unique_numbers.sort()  \n",
    "\n",
    "print(unique_numbers)\n"
   ]
  },
  {
   "cell_type": "code",
   "execution_count": null,
   "metadata": {},
   "outputs": [
    {
     "name": "stdout",
     "output_type": "stream",
     "text": [
      "[5, 10, 15, 20]\n"
     ]
    }
   ],
   "source": [
    "# 2.Problemin a Şıkkının Çözümünü Buraya Yazınız\n",
    "numbers = [5,10,10,15,15,15,20,20,20]\n",
    "unique_numbers = []\n",
    "for num in numbers:\n",
    "    if num not in unique_numbers:\n",
    "        unique_numbers.append(num)\n",
    "print(unique_numbers)\n",
    "\n",
    "    \n",
    "      \n",
    "\n",
    "    "
   ]
  },
  {
   "cell_type": "markdown",
   "metadata": {},
   "source": [
    "### 🌶️ b) Hadi işi biraz daha zorlaştıralım! \n",
    "\n",
    "\n",
    "Şimdiyse senden `numbers` isimli listedeki tekrar eden elemanları `repeatNumbers` adındaki listeye; tekrar etmeyen elemanları `uniqueNumbers`adındaki listeye kopyalayan yazmanı ve listeleri ekrana bastırmanı bekliyoruz\n",
    "\n",
    "```\n",
    ">Output\n",
    "Tekrar Eden Elemanlar: [10, 10, 15, 15, 15, 20, 20, 20, 20]\n",
    "Tekrar Etmeyen Elemanlar: [5]\n",
    "```"
   ]
  },
  {
   "cell_type": "code",
   "execution_count": 4,
   "metadata": {},
   "outputs": [
    {
     "name": "stdout",
     "output_type": "stream",
     "text": [
      "Tekrar Eden Elemanlar: [10, 10, 15, 15, 15, 20, 20, 20]\n",
      "Tekrar ETmeyen Elemanlar: [5]\n"
     ]
    }
   ],
   "source": [
    "# 2.Problemin b Şıkkının Çözümünü Buraya Yazınız\n",
    "numbers = [5,10,10,15,15,15,20,20,20]\n",
    "uniqueNumbers = []\n",
    "repeatNumbers = []\n",
    "for num in numbers:\n",
    "    if numbers.count(num) != 1:\n",
    "        repeatNumbers.append(num)\n",
    "    else:\n",
    "        uniqueNumbers.append(num)\n",
    "\n",
    "print(f\"Tekrar Eden Elemanlar: {repeatNumbers}\")\n",
    "print(f\"Tekrar ETmeyen Elemanlar: {uniqueNumbers}\")\n",
    "\n",
    "    \n",
    "    \n",
    "      \n"
   ]
  },
  {
   "cell_type": "markdown",
   "metadata": {},
   "source": [
    "# Problem 3\n",
    "sn1 = {1,2,3,4,5}\n",
    "\n",
    "sn2 = {4,5,6,7,8}\n",
    "\n",
    " Verilen 2 adet küme için kesişimlerini, farklarını ve birleşimlerini bulunuz. "
   ]
  },
  {
   "cell_type": "code",
   "execution_count": 14,
   "metadata": {},
   "outputs": [
    {
     "name": "stdout",
     "output_type": "stream",
     "text": [
      "{4, 5}\n",
      "{8, 6, 7}\n",
      "{1, 2, 3}\n",
      "{1, 2, 3, 4, 5, 6, 7, 8}\n"
     ]
    }
   ],
   "source": [
    "sn1 = {1,2,3,4,5}\n",
    "sn2 = {4,5,6,7,8}\n",
    "kesisimler = sn1.intersection(sn2) \n",
    "fark1= sn2.difference(sn1)\n",
    "fark2 = sn1.difference(sn2)\n",
    "birlesim =sn1.union(sn2)\n",
    "print(kesisimler)\n",
    "print(fark1)\n",
    "print(fark2)\n",
    "print(birlesim)"
   ]
  },
  {
   "cell_type": "markdown",
   "metadata": {},
   "source": [
    "# Problem 4\n",
    "\n",
    "Buradaki işlemlerimizin tamamı stringler içindir. Aşağıda verilecek olan metodlar için kendinizin örnek yaratması gerekmektedir. \n",
    "\n",
    "Örneğin `upper` için `string` değişkeni oluştururken` k = \"BAC\"` şeklinde oluşturmayınız. Bunun yerine k değişkenini `k = \"bac`\" şeklinde oluşturmanız `upper` metodundaki değişimi görebilmeniz için daha iyi olacaktır.\n",
    "\n",
    "Bütün metodlardaki değişimin gözle görülür şekilde değişimi beklenmektedir.\n",
    "\n",
    "\n",
    "1- capitalize(), lower(), upper(), swapcase(), title(), replace()\n",
    "\n",
    "2- endswith(), startswith(), find(), index(), count()\n",
    "\n",
    "3- split(), strip(), join(), islower(), isalpha(), isdigit()\n",
    "\n",
    "\n",
    "Yukarıdaki `string` metodlarındaki değişimleri görebildiğimiz bir program yazınız.\n"
   ]
  },
  {
   "cell_type": "code",
   "execution_count": null,
   "metadata": {},
   "outputs": [
    {
     "name": "stdout",
     "output_type": "stream",
     "text": [
      "y.swapcase(): YetGen\n",
      "y.upper(): YETGEN\n",
      "y.lower(): yetgen\n",
      "y.capitalize(): Yetgen\n",
      "y.title(): Yetgen\n",
      "y.replace() yETgEN\n",
      "y.startswith() True\n",
      "y.endswith(): True\n",
      "y.find(): 1\n",
      "y.index(): 2\n",
      "y.count(): 2\n"
     ]
    }
   ],
   "source": [
    "# 4.Problemin Çözümünü Buraya Yazınız\n",
    "y =\"yETgEN\"\n",
    "print(\"y.swapcase():\" , y.swapcase())\n",
    "print(\"y.upper():\" ,y.upper())\n",
    "print(\"y.lower():\" ,y.lower())\n",
    "print(\"y.capitalize():\" , y.capitalize())\n",
    "print(\"y.title():\" , y.title())\n",
    "#print(\"y.replace()\" , y.replace(\"e\" ,\"a\"))\n",
    "print(\"y.startswith()\", y.startswith(\"y\"))\n",
    "print(\"y.endswith():\" , y.endswith(\"N\"))\n",
    "print(\"y.find():\" , y.find(\"ET\"))\n",
    "print(\"y.index():\" , y.index(\"T\"))\n",
    "print(\"y.count():\" , y.count(\"E\"))\n",
    "\n"
   ]
  },
  {
   "cell_type": "code",
   "execution_count": 68,
   "metadata": {},
   "outputs": [
    {
     "name": "stdout",
     "output_type": "stream",
     "text": [
      "bilgi.split(): ['Aslı', 'Sena', 'Kayıkcı', '22', 'Oğlak']\n",
      "bilgi.strip(): Aslı Sena Kayıkcı 22 Oğlak\n",
      "bilgi.islower(): False\n",
      "bilgi.isalpha(): False\n",
      "bilgi.isdigit(): False\n"
     ]
    }
   ],
   "source": [
    "bilgi = \"    Aslı Sena Kayıkcı 22 Oğlak    \"\n",
    "print(\"bilgi.split():\" , bilgi.split())\n",
    "print(\"bilgi.strip():\" , bilgi.strip())\n",
    "#print(\"bilgi.join():\" , bilgi.join())\n",
    "print(\"bilgi.islower():\" , bilgi.islower())\n",
    "print(\"bilgi.isalpha():\" , bilgi.isalpha())\n",
    "print(\"bilgi.isdigit():\" , bilgi.isdigit())\n"
   ]
  }
 ],
 "metadata": {
  "kernelspec": {
   "display_name": "Python 3",
   "language": "python",
   "name": "python3"
  },
  "language_info": {
   "codemirror_mode": {
    "name": "ipython",
    "version": 3
   },
   "file_extension": ".py",
   "mimetype": "text/x-python",
   "name": "python",
   "nbconvert_exporter": "python",
   "pygments_lexer": "ipython3",
   "version": "3.11.0"
  },
  "orig_nbformat": 4
 },
 "nbformat": 4,
 "nbformat_minor": 2
}
