{
 "cells": [
  {
   "cell_type": "markdown",
   "metadata": {
    "id": "hpyeSHc7K1aN"
   },
   "source": [
    "# Problem 1\n",
    "Bir YetGenli yeni aldığı bahçesinin etrafına çit çevirmek istiyor. Bahçenin etrafını çit ile çevirmek için gerekli çit uzunluğunu ve bahçenin alanını hesaplayan fonksiyonu yazınız."
   ]
  },
  {
   "cell_type": "code",
   "execution_count": null,
   "metadata": {
    "id": "HfCgs5BHK1aT"
   },
   "outputs": [],
   "source": [
    "# 1.Problemin Çözümünü Buraya Yazınız\n",
    "def bahceHesaplama (citUzunlugu , )"
   ]
  },
  {
   "cell_type": "markdown",
   "metadata": {
    "id": "L90q8kwQK1aW"
   },
   "source": [
    "# Problem 2\n",
    "Kendisine gönderilen 2 sayı arasındaki tüm asal sayıları bulan fonksiyonu yazınız."
   ]
  },
  {
   "cell_type": "code",
   "execution_count": 1,
   "metadata": {
    "id": "VxbxzQXdK1aX"
   },
   "outputs": [
    {
     "name": "stdout",
     "output_type": "stream",
     "text": [
      "9 ile 73 arasındaki asal sayılar: [11, 13, 17, 19, 23, 29, 31, 37, 41, 43, 47, 53, 59, 61, 67, 71, 73]\n"
     ]
    }
   ],
   "source": [
    "# 2.Problemin Çözümünü Buraya Yazınız\n",
    "baslangic = int(input(\"Başlangıç sayısını giriniz: \"))\n",
    "bitis = int(input(\"Bitiş sayısını giriniz: \"))\n",
    "\n",
    "def asalSayilariBulma(baslangic, bitis):\n",
    "    asalSayilar = []\n",
    "    \n",
    "    for i in range(baslangic, bitis + 1):  \n",
    "        if i > 1:  \n",
    "            for j in range(2, int(i ** 0.5) + 1):  \n",
    "                if i % j == 0:\n",
    "                    break\n",
    "            else:\n",
    "                asalSayilar.append(i)\n",
    "    \n",
    "    return asalSayilar\n",
    "\n",
    "sonuc = asalSayilariBulma(baslangic, bitis)\n",
    "\n",
    "print(f\"{baslangic} ile {bitis} arasındaki asal sayılar: {sonuc}\")\n"
   ]
  },
  {
   "cell_type": "markdown",
   "metadata": {
    "id": "OqbcX2FPK1aY"
   },
   "source": [
    "# Problem 3\n",
    "YetGen liderlerinin kurdukları girişim unicorn oluyor. YetGen liderleri iş arkadaşlarının alacağı ücretlerini hesaplamak için bir fonksiyon yazdılar. Bu fonksiyonu kullanarak, YetGen liderlerinin iş arkadaşlarına verecekleri ücretleri hesaplayınız.\n",
    "\n",
    "Ücret hesaplanması çalışma saatine bağlıdır. Bunun için kullanıcıdan çalışma saati bilgisinn alın. Sonrasında yapılacak ödemenin hesaplanacağı computePay() adlı bir fonksiyon oluşturun. Bu fonksiyonun içinde işlemler yapın. Çalışma saati 40 ve altındaysa saat başına ücret 10 TL’dir. 40 saatin üstünde çalışıldıysa saat başına ücret 15 TL sayılmaktadır.\n",
    "\n",
    "```\n",
    "Test etmek için 30 saat değerini giriniz,  sonuç 300 TL çıkmalı, \n",
    "ikincil test olarak 50 değerini giriniz,  sonuç 750 TL çıkmalı.\n",
    "```"
   ]
  },
  {
   "cell_type": "code",
   "execution_count": null,
   "metadata": {},
   "outputs": [
    {
     "name": "stdout",
     "output_type": "stream",
     "text": [
      "Toplam Ücret: 300 TL\n"
     ]
    }
   ],
   "source": [
    "#3.Problemin Çözümünü Buraya Yazınız\n",
    "calismaSaati = int(input(\"Kaç saat çalışıldığını giriniz: \"))\n",
    "def computePay(calismaSaati):\n",
    "    if calismaSaati <= 40:\n",
    "        saatBasinaUcret = 10\n",
    "    else:\n",
    "        saatBasinaUcret = 15\n",
    "    \n",
    "    toplamUcret = calismaSaati * saatBasinaUcret\n",
    "    return toplamUcret\n",
    "\n",
    "print(f\"Toplam Ücret: {computePay(calismaSaati)} TL\")\n"
   ]
  },
  {
   "cell_type": "markdown",
   "metadata": {
    "id": "V0BeBR90K1aZ"
   },
   "source": [
    "# Problem 4\n",
    "YetGenliler zirveye gitmek için toplanıyor. Zirveye gitmek için kiraladıkları araçlar 4'er kişiliktir. Gelecek kişi sayısı için Airtable üzerinde form açılıyor. Gelecek kişi sayısını alıp dört kişilik araçlara bölüp kalan kişi sayısını döndüren bir fonksiyon yazınız."
   ]
  },
  {
   "cell_type": "code",
   "execution_count": 5,
   "metadata": {},
   "outputs": [
    {
     "name": "stdout",
     "output_type": "stream",
     "text": [
      "Gerekli araç sayısı: 4, Kalan kişi sayısı: 3\n"
     ]
    }
   ],
   "source": [
    "# 4.Problemin Çözümünü Buraya Yazınız\n",
    "gelecekKisiSayisi = int(input(\"Gelecek kişi sayısını giriniz: \"))\n",
    "def kisiYerlestirme(gelecekKisiSayisi):\n",
    "    aracSayisi = gelecekKisiSayisi // 4\n",
    "    kalanKisiSayisi = gelecekKisiSayisi % 4\n",
    "    return aracSayisi, kalanKisiSayisi\n",
    "\n",
    "aracSayisi, kalanKisiSayisi = kisiYerlestirme(gelecekKisiSayisi)\n",
    "print(f\"Gerekli araç sayısı: {aracSayisi}, Kalan kişi sayısı: {kalanKisiSayisi}\")\n"
   ]
  },
  {
   "cell_type": "markdown",
   "metadata": {
    "id": "dWcDwEVjK1ab"
   },
   "source": [
    "# Problem 5\n",
    "sayiTopla() adında bir fonksiyon yazın. sayiTopla() fonksiyonu girilen sayıları toplayarak yazdırmasını sağlayan bir fonksiyon yazınız.\n",
    "\n",
    "Örneğin sayiTopla(1,2,3,4,5) yazdığımızda 15 çıktısını almalıyız. sayiTopla(1,2,3,4,5,6,7,8,9,10) yazdığımızda 55 çıktısını almalıyız."
   ]
  },
  {
   "cell_type": "code",
   "execution_count": 10,
   "metadata": {
    "id": "fmCZcLM2K1ad"
   },
   "outputs": [
    {
     "name": "stdout",
     "output_type": "stream",
     "text": [
      "15\n",
      "55\n"
     ]
    }
   ],
   "source": [
    "# 5.Problemin Çözümünü Buraya Yazınız\n",
    "def sayiTopla(*args):\n",
    "    toplam = sum(args)\n",
    "    print(toplam)\n",
    "sayiTopla(1,2,3,4,5)\n",
    "sayiTopla(1,2,3,4,5,6,7,8,9,10)"
   ]
  },
  {
   "cell_type": "markdown",
   "metadata": {
    "id": "kd9edMkoK1ae"
   },
   "source": [
    "# Problem 6\n",
    "\n",
    "[(\"xxx\",1),(\"xxx\",2),(\"xxx\",9),(\"xxx\",3), (\"xxx\",1),(\"xxx\",13),(\"xxx\",26),(\"xxx\",4)] listesi içerisinde verilen elemanların her birini tuple içindeki 2. Elemana göre sıralayınız. \n",
    "\n"
   ]
  },
  {
   "cell_type": "code",
   "execution_count": null,
   "metadata": {
    "id": "Jk4tgaH3K1af"
   },
   "outputs": [],
   "source": [
    "# 6.Problemin Çözümünü Buraya Yazınız"
   ]
  },
  {
   "cell_type": "markdown",
   "metadata": {
    "id": "V0yKbDraK1af"
   },
   "source": [
    "# Problem 7\n",
    "List comprehension kullanarak 1'den 100'e kadar olan sayılardan sadece çift sayıları bir listeye atmayı yapmayı çalışın."
   ]
  },
  {
   "cell_type": "code",
   "execution_count": null,
   "metadata": {
    "id": "iHosmISJK1ag"
   },
   "outputs": [],
   "source": [
    "# 7.Problemin Çözümünü Buraya Yazınız"
   ]
  }
 ],
 "metadata": {
  "colab": {
   "provenance": []
  },
  "kernelspec": {
   "display_name": "Python 3",
   "language": "python",
   "name": "python3"
  },
  "language_info": {
   "codemirror_mode": {
    "name": "ipython",
    "version": 3
   },
   "file_extension": ".py",
   "mimetype": "text/x-python",
   "name": "python",
   "nbconvert_exporter": "python",
   "pygments_lexer": "ipython3",
   "version": "3.11.0"
  },
  "orig_nbformat": 4
 },
 "nbformat": 4,
 "nbformat_minor": 0
}
