{
 "cells": [
  {
   "cell_type": "markdown",
   "metadata": {},
   "source": [
    "#YetgenCorePython2025\n",
    "## Core Python eğitimi başladı. Ben de bu eğitim yolcuğunda Yetgenle birlikteyim."
   ]
  },
  {
   "cell_type": "markdown",
   "metadata": {},
   "source": [
    "![This is an image](https://miro.medium.com/v2/resize:fit:910/1*jbz6ImV3RT_vNzSvSHW_Fg.png)"
   ]
  }
 ],
 "metadata": {
  "language_info": {
   "name": "python"
  }
 },
 "nbformat": 4,
 "nbformat_minor": 2
}
