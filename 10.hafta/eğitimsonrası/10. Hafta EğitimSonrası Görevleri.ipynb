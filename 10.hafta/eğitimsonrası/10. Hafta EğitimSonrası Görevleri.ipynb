{
 "cells": [
  {
   "attachments": {},
   "cell_type": "markdown",
   "metadata": {},
   "source": [
    "# Problem 1 "
   ]
  },
  {
   "cell_type": "code",
   "execution_count": 2,
   "metadata": {},
   "outputs": [
    {
     "name": "stdout",
     "output_type": "stream",
     "text": [
      "Sıralanmış array: [ 3  5  8 10 12]\n"
     ]
    }
   ],
   "source": [
    "# 1 - numpy kütüphanesini import edin\n",
    "import numpy as np\n",
    "# 2 - 5 elemanlı bir numpy array oluşturun\n",
    "arr = np.array([12, 5, 8, 3, 10])\n",
    "# 3 - Oluşturduğunuz arrayi küçükten büyüğe sıralayın.\n",
    "sorted_arr = np.sort(arr)\n",
    "\n",
    "print(\"Sıralanmış array:\", sorted_arr)"
   ]
  },
  {
   "attachments": {},
   "cell_type": "markdown",
   "metadata": {},
   "source": [
    "# Problem 2"
   ]
  },
  {
   "cell_type": "code",
   "execution_count": 7,
   "metadata": {},
   "outputs": [
    {
     "name": "stdout",
     "output_type": "stream",
     "text": [
      "Dizi: [10 11 12 13 14 15 16 17 18 19 20]\n",
      "İlk 3 Eleman: [10 11 12]\n",
      "Ters: [20 19 18 17 16 15 14 13 12 11 10]\n",
      "Matris:\n",
      " [[44 42 22 24 29]\n",
      " [46 18 15 22 38]\n",
      " [17 35 16 14 33]]\n",
      "İlk Satır: [44 42 22 24 29]\n",
      "2. Satır 3. Sütun: 15\n",
      "İlk Sütun Elemanları: [44 46 17]\n",
      "Karesi:\n",
      " [[1936 1764  484  576  841]\n",
      " [2116  324  225  484 1444]\n",
      " [ 289 1225  256  196 1089]]\n",
      "Yeni Matris:\n",
      " [[ 35  15  50  28   6]\n",
      " [-32 -49  24  46  45]\n",
      " [ 33  26  28  -9  -2]\n",
      " [ 46  -8 -17 -27  41]\n",
      " [-41 -27 -48 -28   1]]\n",
      "Pozitif Çift Sayılar: [50 28  6 24 46 26 28 46]\n"
     ]
    }
   ],
   "source": [
    "import numpy as np\n",
    "# 1- (10,15,30,45,60) değerlerine sahip numpy dizisi oluşturunuz.\n",
    "dizi1 = np.array([10, 15, 30, 45, 60])\n",
    "\n",
    "# 2- (5-15) arasındaki sayılarla numpy dizisi oluşturunuz.\n",
    "dizi2 = np.arange(5, 16)\n",
    "# 3- (50-100) arasında 5'er 5'er artarak numpy dizisi oluşturunuz.\n",
    "dizi3 = np.arange(50, 101, 5)\n",
    "\n",
    "# 4- 10 elemanlı sıfırlardan oluşan bir dizi oluşturunuz.\n",
    "dizi4 = np.zeros(10)\n",
    "\n",
    "# 5- 10 elemanlı birlerden oluşan bir dizi oluşturunuz.\n",
    "dizi5 = np.ones(10)\n",
    "\n",
    "# 6- (0-100) arasında eşit aralıklı 5 sayı üretin.\n",
    "dizi6 = np.linspace(0, 100, 5)\n",
    "\n",
    "# 7- (10-30) arasında rastgele 5 tane tamsayı üretin.\n",
    "dizi7 = np.random.randint(10, 31, 5)\n",
    "\n",
    "# 8- [-1 ile 1] arasında 10 adet sayı üretin.\n",
    "dizi8 = np.random.uniform(-1, 1, 10)\n",
    "\n",
    "# 9- (3x5) boyutlarında (10-50) arasında rastgele bir matris oluşturunuz.\n",
    "matris9 = np.random.randint(10, 51, (3, 5))\n",
    "\n",
    "# 10- Üretilen matrisin satır ve sütun sayıları toplamlarını hesaplayınız ?\n",
    "satir_toplamlari = matris9.sum(axis=1)\n",
    "sutun_toplamlari = matris9.sum(axis=0)\n",
    "\n",
    "# 11- Üretilen matrisin en büyük, en küçük ve ortalaması nedir ?\n",
    "# 11- Matrisin en büyük, en küçük ve ortalama değeri\n",
    "en_buyuk = matris9.max()\n",
    "en_kucuk = matris9.min()\n",
    "ortalama = matris9.mean()\n",
    "\n",
    "\n",
    "# 12- Üretilen matrisin en büyük değerinin indeksi kaçtır ?\n",
    "en_buyuk_indeks = np.argmax(matris9)\n",
    "en_buyuk_indeks_2d = np.unravel_index(en_buyuk_indeks, matris9.shape)\n",
    "\n",
    "# 13- (10-20) arasındaki sayıları içeren dizinin ilk 3 elemanını seçiniz.\n",
    "dizi = np.arange(10, 21)\n",
    "\n",
    "# 14- Üretilen dizinin elemanlarını tersten yazdırın.\n",
    "ilk_uc = dizi[:3]\n",
    "\n",
    "# 15- Üretilen matrisin ilk satırını seçiniz.\n",
    "tersten = dizi[::-1]\n",
    "\n",
    "# 16- Üretilen matrisin 2.satır 3.sütundaki elemanı hangisidir ?\n",
    "matris = np.random.randint(10, 51, (3, 5))\n",
    "eleman_2_3 = matris[1, 2]\n",
    "\n",
    "# 17- Üretilen matrisin tüm satırlardaki ilk elemanı seçiniz.\n",
    "ilk_satir = matris[0]\n",
    "ilk_sutun_elemanlari = matris[:, 0]\n",
    "\n",
    "# 18- Üretilen matrisin her bir elemanının karesini alınız.\n",
    "karesi = matris ** 2\n",
    "\n",
    "# 19- Üretilen matris elemanlarının hangisi pozitif çift sayıdır ? Aralığı (-50,+50) arasında yapınız.\n",
    "yeni_matris = np.random.randint(-50, 51, (5, 5))\n",
    "pozitif_ciftler = yeni_matris[(yeni_matris > 0) & (yeni_matris % 2 == 0)]\n",
    "\n",
    "print(\"Dizi:\", dizi)\n",
    "print(\"İlk 3 Eleman:\", ilk_uc)\n",
    "print(\"Ters:\", tersten)\n",
    "print(\"Matris:\\n\", matris)\n",
    "print(\"İlk Satır:\", ilk_satir)\n",
    "print(\"2. Satır 3. Sütun:\", eleman_2_3)\n",
    "print(\"İlk Sütun Elemanları:\", ilk_sutun_elemanlari)\n",
    "print(\"Karesi:\\n\", karesi)\n",
    "print(\"Yeni Matris:\\n\", yeni_matris)\n",
    "print(\"Pozitif Çift Sayılar:\", pozitif_ciftler)"
   ]
  }
 ],
 "metadata": {
  "kernelspec": {
   "display_name": "Python 3",
   "language": "python",
   "name": "python3"
  },
  "language_info": {
   "codemirror_mode": {
    "name": "ipython",
    "version": 3
   },
   "file_extension": ".py",
   "mimetype": "text/x-python",
   "name": "python",
   "nbconvert_exporter": "python",
   "pygments_lexer": "ipython3",
   "version": "3.13.3"
  },
  "orig_nbformat": 4,
  "vscode": {
   "interpreter": {
    "hash": "5026d2d6e7aaaaba093def813beadff083d8733e4a511af01735cbabd156995d"
   }
  }
 },
 "nbformat": 4,
 "nbformat_minor": 2
}
