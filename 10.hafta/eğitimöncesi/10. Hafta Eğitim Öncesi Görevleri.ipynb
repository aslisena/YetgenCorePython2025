{
 "cells": [
  {
   "attachments": {},
   "cell_type": "markdown",
   "metadata": {},
   "source": [
    "# Problem 1"
   ]
  },
  {
   "cell_type": "code",
   "execution_count": 3,
   "metadata": {},
   "outputs": [
    {
     "name": "stdout",
     "output_type": "stream",
     "text": [
      "Matris: [ 0.   2.5  5.   7.5 10. ]\n",
      "Matris boyutu: (5,)\n",
      "Yeniden boyutlandırılmış matris:\n",
      " [[ 0. ]\n",
      " [ 2.5]\n",
      " [ 5. ]\n",
      " [ 7.5]\n",
      " [10. ]]\n",
      "Matris boyut sayısı: 1\n"
     ]
    }
   ],
   "source": [
    "# 1 - numpy kütüphanesini import edin\n",
    "import numpy  as np \n",
    "# 2 - 0 ile 10 arasında 5 sayıdan oluşan matris üretin\n",
    "matris = np.linspace(0, 10, 5)\n",
    "print(\"Matris:\", matris)\n",
    "# 3 - matris'in boyutunu öğrenin\n",
    "print(\"Matris boyutu:\", matris.shape)\n",
    "# 4 - matris'i yeniden boyutlandırın\n",
    "matris_reshaped = matris.reshape((5, 1))\n",
    "print(\"Yeniden boyutlandırılmış matris:\\n\", matris_reshaped)\n",
    "# 5 - matris'in boyut sayısını öğrenin\n",
    "print(\"Matris boyut sayısı:\", matris.ndim)"
   ]
  },
  {
   "attachments": {},
   "cell_type": "markdown",
   "metadata": {},
   "source": [
    "# Problem 2"
   ]
  },
  {
   "cell_type": "code",
   "execution_count": 5,
   "metadata": {},
   "outputs": [
    {
     "name": "stdout",
     "output_type": "stream",
     "text": [
      "Tek sayılar matrisi: [1 3 5 7 9]\n",
      "Parça 1: [1 3]\n",
      "Parça 2: [5 7 9]\n",
      "Birleşmiş matris: [1 3 5 7 9]\n"
     ]
    }
   ],
   "source": [
    "# 1 - 0 ile 10 arasında bulunan tek sayılardan oluşan matris üretin\n",
    "tek_sayilar = np.arange(1, 10, 2)\n",
    "print(\"Tek sayılar matrisi:\", tek_sayilar)\n",
    "# 2 - Oluşturduğunuz matrisi parçalayın\n",
    "parca1 = tek_sayilar[:2]\n",
    "parca2 = tek_sayilar[2:]\n",
    "print(\"Parça 1:\", parca1)\n",
    "print(\"Parça 2:\", parca2)\n",
    "# 3 - Parçalanmış matrisleri birleştirin\n",
    "birlesmis = np.concatenate((parca1, parca2))\n",
    "print(\"Birleşmiş matris:\", birlesmis)"
   ]
  },
  {
   "attachments": {},
   "cell_type": "markdown",
   "metadata": {},
   "source": [
    "# Problem 3"
   ]
  },
  {
   "cell_type": "code",
   "execution_count": 8,
   "metadata": {},
   "outputs": [
    {
     "name": "stdout",
     "output_type": "stream",
     "text": [
      "Rastgele matris: [15 19 73  5 29 67  9 83  9 41]\n",
      "Matris boyutu (shape): (10,)\n",
      "Matris boyut sayısı (ndim): 1\n",
      "Matris veri tipi (dtype): int64\n",
      "Matris eleman sayısı (size): 10\n"
     ]
    }
   ],
   "source": [
    "import numpy as np\n",
    "# 1 - 5 ile 100 arasında ikişer ikişer atlayarak rastgele 10 sayıdan oluşan matris üretin\n",
    "sayilar = np.arange(5 ,101 , 2)\n",
    "matris = np.random.choice(sayilar,10)\n",
    "print(\"Rastgele matris:\",matris)\n",
    "# 2 - matris'in özelliklerini inceleyin\n",
    "print(\"Matris boyutu (shape):\", matris.shape)\n",
    "print(\"Matris boyut sayısı (ndim):\", matris.ndim)\n",
    "print(\"Matris veri tipi (dtype):\", matris.dtype)\n",
    "print(\"Matris eleman sayısı (size):\", matris.size)\n"
   ]
  }
 ],
 "metadata": {
  "kernelspec": {
   "display_name": "Python 3",
   "language": "python",
   "name": "python3"
  },
  "language_info": {
   "codemirror_mode": {
    "name": "ipython",
    "version": 3
   },
   "file_extension": ".py",
   "mimetype": "text/x-python",
   "name": "python",
   "nbconvert_exporter": "python",
   "pygments_lexer": "ipython3",
   "version": "3.13.3"
  },
  "orig_nbformat": 4,
  "vscode": {
   "interpreter": {
    "hash": "5026d2d6e7aaaaba093def813beadff083d8733e4a511af01735cbabd156995d"
   }
  }
 },
 "nbformat": 4,
 "nbformat_minor": 2
}
